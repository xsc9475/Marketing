{
 "cells": [
  {
   "cell_type": "code",
   "execution_count": 150,
   "metadata": {},
   "outputs": [],
   "source": [
    "import pandas as pd\n",
    "import numpy as np\n",
    "from sklearn.cluster import KMeans\n",
    "from datetime import datetime\n",
    "from sklearn.preprocessing import scale\n",
    "import matplotlib.pyplot as plt\n",
    "from sklearn import mixture\n",
    "from sklearn.decomposition import PCA\n",
    "from xgboost.sklearn import XGBClassifier\n",
    "from sklearn.model_selection import train_test_split\n",
    "from sklearn import metrics\n",
    "from sklearn.linear_model import LogisticRegression\n",
    "from sklearn.metrics import confusion_matrix\n",
    "from xgboost import plot_importance"
   ]
  },
  {
   "cell_type": "code",
   "execution_count": 2,
   "metadata": {},
   "outputs": [],
   "source": [
    "subs = pd.read_csv(\"subscribers.csv\")"
   ]
  },
  {
   "cell_type": "code",
   "execution_count": 13,
   "metadata": {},
   "outputs": [],
   "source": [
    "chan = pd.read_csv(\"channel_spend_graduate.csv\")"
   ]
  },
  {
   "cell_type": "markdown",
   "metadata": {},
   "source": [
    "# Data Preprocess"
   ]
  },
  {
   "cell_type": "code",
   "execution_count": 4,
   "metadata": {},
   "outputs": [],
   "source": [
    "age = []\n",
    "for i in subs['age']:\n",
    "    if i >=110 or i <= 3:\n",
    "        age.append(np.nan)\n",
    "    else:\n",
    "        age.append(i)"
   ]
  },
  {
   "cell_type": "code",
   "execution_count": 35,
   "metadata": {},
   "outputs": [],
   "source": [
    "subs['age'] = age\n",
    "subs1 = subs.copy()\n",
    "###Delete columns meaningless/ without variation/ with more than 20% missing\n",
    "subs1 = subs1.drop([\"Unnamed: 0\",\"num_weekly_services_utilized\",\"num_ideal_streaming_services\",\"payment_type\",\"last_payment\",\"next_payment\",\"cancel_date\",\"country\",\"months_per_bill_period\",\"monthly_price\",\"language\",\"trial_end_date\",\"attribution_technical\"],axis = 1)"
   ]
  },
  {
   "cell_type": "code",
   "execution_count": 36,
   "metadata": {},
   "outputs": [],
   "source": [
    "date = list(subs1[\"account_creation_date\"])\n",
    "year = []\n",
    "month = []\n",
    "day = []\n",
    "time = []\n",
    "for i in date:\n",
    "    year.append(int(i.split(\" \")[0].split(\"-\")[0]))\n",
    "    month.append(int(i.split(\" \")[0].split(\"-\")[1]))\n",
    "    day.append(int(datetime.strptime(i.split(\" \")[0], \"%Y-%m-%d\").weekday()+1))\n",
    "    time.append(int(i.split(\" \")[1].split(\":\")[0]))\n",
    "subs1['creation_year'] = year\n",
    "subs1['creation_month'] = month\n",
    "subs1['creation_day'] = day\n",
    "subs1['creation_time'] = time\n",
    "subs1 = subs1.drop(['account_creation_date'],axis = 1)"
   ]
  },
  {
   "cell_type": "code",
   "execution_count": 37,
   "metadata": {},
   "outputs": [],
   "source": [
    "retention = list()\n",
    "n = range(0,len(subs1['subid']))\n",
    "for i in n:\n",
    "    if subs1['current_sub_TF'][i] == True and subs1['payment_period'][i] > 0 and subs1['trial_completed'][i] == True:\n",
    "        retention.append(True)\n",
    "    else:\n",
    "        retention.append(False)\n",
    "subs1['retention'] = retention\n",
    "subs1 = subs1.drop(['current_sub_TF'],axis = 1)"
   ]
  },
  {
   "cell_type": "code",
   "execution_count": 38,
   "metadata": {},
   "outputs": [],
   "source": [
    "numerical = ['weekly_consumption_hour','age','discount_price','join_fee']\n",
    "categorical = ['package_type','preferred_genre','intended_use','male_TF','attribution_survey','op_sys','plan_type','initial_credit_card_declined','num_trial_days','payment_period','trial_completed','creation_year','creation_month','creation_day','creation_time','retention']"
   ]
  },
  {
   "cell_type": "code",
   "execution_count": 39,
   "metadata": {},
   "outputs": [],
   "source": [
    "subs1['subid'] = subs1['subid'].astype('object')\n",
    "for i in numerical:\n",
    "    subs1[i] = subs1[i].fillna(method = 'pad',axis = 0)\n",
    "    subs1[i] = subs1[i].fillna(subs1[i].mean())\n",
    "for i in categorical:\n",
    "    subs1[i] = subs1[i].fillna(method = 'pad',axis = 0)\n",
    "    #subs1[i] = subs1[i].astype('category')\n",
    "subs1['age'] = subs1['age'].astype('int')"
   ]
  },
  {
   "cell_type": "code",
   "execution_count": 90,
   "metadata": {},
   "outputs": [],
   "source": [
    "weekend = []\n",
    "for i in subs1['creation_day']:\n",
    "    if i == 5 or i == 6 or i == 7:\n",
    "        weekend.append(1)\n",
    "    else:\n",
    "        weekend.append(0)\n",
    "        \n",
    "summer = []\n",
    "for i in subs1['creation_month']:\n",
    "    if i == 6 or i == 7 or i == 8:\n",
    "        summer.append(1)\n",
    "    else:\n",
    "        summer.append(0)\n",
    "        \n",
    "worktime = []\n",
    "for i in subs1['creation_time']:\n",
    "    if i >= 8 and i <= 18:\n",
    "        worktime.append(1)\n",
    "    else:\n",
    "        worktime.append(0)\n",
    "        \n",
    "subs1['weekend'] = weekend\n",
    "subs1['summer'] = summer\n",
    "subs1['worktime'] = worktime"
   ]
  },
  {
   "cell_type": "code",
   "execution_count": 89,
   "metadata": {},
   "outputs": [
    {
     "data": {
      "text/plain": [
       "53805"
      ]
     },
     "execution_count": 89,
     "metadata": {},
     "output_type": "execute_result"
    }
   ],
   "source": [
    "sum(summer)"
   ]
  },
  {
   "cell_type": "code",
   "execution_count": 14,
   "metadata": {},
   "outputs": [],
   "source": [
    "chan1 = pd.get_dummies(chan,columns = ['date'])"
   ]
  },
  {
   "cell_type": "code",
   "execution_count": 16,
   "metadata": {},
   "outputs": [],
   "source": [
    "columns = chan1.columns[2:10]"
   ]
  },
  {
   "cell_type": "code",
   "execution_count": 17,
   "metadata": {},
   "outputs": [],
   "source": [
    "for i in columns:\n",
    "    chan1[i] = chan1['spend_AED'].mul(chan1[i])\n",
    "chan1 = chan1.drop(['spend_AED'],axis = 1)"
   ]
  },
  {
   "cell_type": "code",
   "execution_count": 171,
   "metadata": {},
   "outputs": [
    {
     "data": {
      "text/plain": [
       "Index(['date_201907', 'date_201908', 'date_201909', 'date_201910',\n",
       "       'date_201911', 'date_201912', 'date_202001', 'date_202002'],\n",
       "      dtype='object')"
      ]
     },
     "execution_count": 171,
     "metadata": {},
     "output_type": "execute_result"
    }
   ],
   "source": [
    "chan2.columns"
   ]
  },
  {
   "cell_type": "code",
   "execution_count": 18,
   "metadata": {},
   "outputs": [],
   "source": [
    "chan2= chan1[list(chan1.columns)].groupby(['channel']).sum()"
   ]
  },
  {
   "cell_type": "code",
   "execution_count": 184,
   "metadata": {},
   "outputs": [],
   "source": [
    "chan3 = chan2.eval('Total=date_201907+date_201908+date_201909+date_201910+date_201911+date_201912+date_202001+date_202002')"
   ]
  },
  {
   "cell_type": "markdown",
   "metadata": {},
   "source": [
    "# Customer Segmentation"
   ]
  },
  {
   "cell_type": "code",
   "execution_count": 104,
   "metadata": {},
   "outputs": [],
   "source": [
    "columns_cluster = ['subid','package_type','preferred_genre','intended_use','weekly_consumption_hour','age','male_TF','attribution_survey','op_sys','plan_type','creation_year','creation_month','creation_day','creation_time']"
   ]
  },
  {
   "cell_type": "code",
   "execution_count": 105,
   "metadata": {},
   "outputs": [],
   "source": [
    "subs1_cluster = subs1[columns_cluster]"
   ]
  },
  {
   "cell_type": "code",
   "execution_count": 108,
   "metadata": {},
   "outputs": [],
   "source": [
    "columns_dummies = ['package_type', 'preferred_genre', 'intended_use','male_TF', 'attribution_survey','op_sys', 'plan_type', 'creation_year','creation_month','creation_day','creation_time']"
   ]
  },
  {
   "cell_type": "code",
   "execution_count": 109,
   "metadata": {},
   "outputs": [],
   "source": [
    "subs2_cluster = pd.get_dummies(subs1_cluster,columns = columns_dummies)"
   ]
  },
  {
   "cell_type": "code",
   "execution_count": 110,
   "metadata": {
    "scrolled": true
   },
   "outputs": [
    {
     "name": "stderr",
     "output_type": "stream",
     "text": [
      "C:\\Users\\xsc\\Anaconda3\\lib\\site-packages\\sklearn\\utils\\validation.py:595: DataConversionWarning: Data with input dtype int32 was converted to float64 by the scale function.\n",
      "  warnings.warn(msg, DataConversionWarning)\n"
     ]
    }
   ],
   "source": [
    "subs3_cluster = subs2_cluster.copy()\n",
    "for c in ['weekly_consumption_hour','age']:\n",
    "    subs3_cluster[c] = scale(np.array(subs2_cluster[c]).reshape(-1, 1))"
   ]
  },
  {
   "cell_type": "code",
   "execution_count": 68,
   "metadata": {},
   "outputs": [
    {
     "data": {
      "text/plain": [
       "GaussianMixture(covariance_type='full', init_params='kmeans', max_iter=100,\n",
       "        means_init=None, n_components=3, n_init=1, precisions_init=None,\n",
       "        random_state=None, reg_covar=1e-06, tol=0.001, verbose=0,\n",
       "        verbose_interval=10, warm_start=False, weights_init=None)"
      ]
     },
     "execution_count": 68,
     "metadata": {},
     "output_type": "execute_result"
    }
   ],
   "source": [
    "gmm_3 = mixture.GaussianMixture(n_components=3, covariance_type='full')\n",
    "gmm_3.fit(subs3_cluster[list(subs3_cluster.columns)[1:92]])\n",
    "label_gmm_3 = gmm_3.predict(subs3_cluster[list(subs3_cluster.columns)[1:92]])"
   ]
  },
  {
   "cell_type": "code",
   "execution_count": 125,
   "metadata": {},
   "outputs": [],
   "source": [
    "gmm_4 = mixture.GaussianMixture(n_components=4, covariance_type='full')\n",
    "gmm_4.fit(subs3_cluster[list(subs3_cluster.columns)[1:92]])\n",
    "label_gmm_4 = gmm_4.predict(subs3_cluster[list(subs3_cluster.columns)[1:92]])"
   ]
  },
  {
   "cell_type": "code",
   "execution_count": 119,
   "metadata": {},
   "outputs": [],
   "source": [
    "kmeans_3 = KMeans(n_clusters=3)\n",
    "kmeans_3.fit(subs3_cluster[list(subs3_cluster.columns)[1:92]])\n",
    "label_kmeans_3 = kmeans_3.predict(subs3_cluster[list(subs3_cluster.columns)[1:92]])"
   ]
  },
  {
   "cell_type": "code",
   "execution_count": 126,
   "metadata": {},
   "outputs": [],
   "source": [
    "kmeans_4 = KMeans(n_clusters=4)\n",
    "kmeans_4.fit(subs3_cluster[list(subs3_cluster.columns)[1:92]])\n",
    "label_kmeans_4 = kmeans_4.predict(subs3_cluster[list(subs3_cluster.columns)[1:92]])"
   ]
  },
  {
   "cell_type": "code",
   "execution_count": 117,
   "metadata": {},
   "outputs": [],
   "source": [
    "SSE = []\n",
    "for k in range(1,7):\n",
    "    kmeans = KMeans(n_clusters=k)\n",
    "    kmeans.fit(subs3_cluster[list(subs3_cluster.columns)[1:92]])\n",
    "    SSE.append(kmeans.inertia_)"
   ]
  },
  {
   "cell_type": "code",
   "execution_count": 118,
   "metadata": {},
   "outputs": [
    {
     "data": {
      "image/png": "[encoded data removed]",
      "text/plain": [
       "<Figure size 432x288 with 1 Axes>"
      ]
     },
     "metadata": {
      "needs_background": "light"
     },
     "output_type": "display_data"
    }
   ],
   "source": [
    "X = range(1,7)\n",
    "plt.xlabel('k')\n",
    "plt.ylabel('SSE')\n",
    "plt.plot(X,SSE,'o-')\n",
    "plt.show()"
   ]
  },
  {
   "cell_type": "code",
   "execution_count": 127,
   "metadata": {},
   "outputs": [],
   "source": [
    "subs1['label_kmeans_3'] = label_kmeans_3\n",
    "subs1['label_gmm_3'] = label_gmm_3\n",
    "subs1['label_kmeans_4'] = label_kmeans_4\n",
    "subs1['label_gmm_4'] = label_gmm_4"
   ]
  },
  {
   "cell_type": "markdown",
   "metadata": {},
   "source": [
    "# Churn Model"
   ]
  },
  {
   "cell_type": "code",
   "execution_count": 139,
   "metadata": {},
   "outputs": [],
   "source": [
    "subs1_churn = subs3_cluster.copy()\n",
    "subs1_churn['discount_price'] = subs1['discount_price']\n",
    "subs1_churn['initial_credit_card_declined'] = subs1['initial_credit_card_declined']\n",
    "subs1_churn['join_fee'] = subs1['join_fee']\n",
    "subs1_churn['num_trial_days'] = subs1['num_trial_days']\n",
    "subs1_churn['retention'] = subs1['retention']\n",
    "subs2_churn = pd.get_dummies(subs1_churn,columns = ['initial_credit_card_declined','num_trial_days'])\n",
    "subs3_churn = subs2_churn.copy()\n",
    "for c in ['discount_price','join_fee']:\n",
    "    subs3_churn[c] = scale(np.array(subs2_churn[c]).reshape(-1, 1))"
   ]
  },
  {
   "cell_type": "code",
   "execution_count": 141,
   "metadata": {},
   "outputs": [],
   "source": [
    "M1_train, M1_test = train_test_split(subs3_churn, random_state = 2020)\n",
    "M1_predictors = [x for x in M1_train.columns if x not in ['subid','retention']]"
   ]
  },
  {
   "cell_type": "code",
   "execution_count": 142,
   "metadata": {},
   "outputs": [],
   "source": [
    "xgbM1 = XGBClassifier()\n",
    "xgbM1_1 = xgbM1.fit(M1_train[M1_predictors], M1_train['retention'],eval_metric='auc')\n",
    "M1_test_predprob = xgbM1_1.predict_proba(M1_test[M1_predictors])[:,1] "
   ]
  },
  {
   "cell_type": "code",
   "execution_count": 144,
   "metadata": {},
   "outputs": [
    {
     "data": {
      "text/plain": [
       "0.9013687315129479"
      ]
     },
     "execution_count": 144,
     "metadata": {},
     "output_type": "execute_result"
    }
   ],
   "source": [
    "metrics.roc_auc_score(M1_test['retention'], M1_test_predprob) "
   ]
  },
  {
   "cell_type": "code",
   "execution_count": 145,
   "metadata": {},
   "outputs": [
    {
     "data": {
      "text/plain": [
       "array([[20856,  5652],\n",
       "       [ 4740, 25659]], dtype=int64)"
      ]
     },
     "execution_count": 145,
     "metadata": {},
     "output_type": "execute_result"
    }
   ],
   "source": [
    "confusion_matrix(M1_test['retention'],xgbM1_1.predict(M1_test[M1_predictors]))"
   ]
  },
  {
   "cell_type": "code",
   "execution_count": 146,
   "metadata": {},
   "outputs": [
    {
     "name": "stderr",
     "output_type": "stream",
     "text": [
      "C:\\Users\\xsc\\Anaconda3\\lib\\site-packages\\sklearn\\linear_model\\logistic.py:433: FutureWarning: Default solver will be changed to 'lbfgs' in 0.22. Specify a solver to silence this warning.\n",
      "  FutureWarning)\n"
     ]
    }
   ],
   "source": [
    "clf = LogisticRegression()\n",
    "clf.fit(M1_train[M1_predictors], M1_train['retention'])\n",
    "lg_test_predprob = clf.predict_proba(M1_test[M1_predictors])[:,1]"
   ]
  },
  {
   "cell_type": "code",
   "execution_count": 147,
   "metadata": {},
   "outputs": [
    {
     "data": {
      "text/plain": [
       "0.8954722701375861"
      ]
     },
     "execution_count": 147,
     "metadata": {},
     "output_type": "execute_result"
    }
   ],
   "source": [
    "metrics.roc_auc_score(M1_test['retention'], lg_test_predprob) "
   ]
  },
  {
   "cell_type": "code",
   "execution_count": 148,
   "metadata": {},
   "outputs": [
    {
     "data": {
      "text/plain": [
       "array([[20993,  5515],\n",
       "       [ 4866, 25533]], dtype=int64)"
      ]
     },
     "execution_count": 148,
     "metadata": {},
     "output_type": "execute_result"
    }
   ],
   "source": [
    "confusion_matrix(M1_test['retention'],clf.predict(M1_test[M1_predictors]))"
   ]
  },
  {
   "cell_type": "code",
   "execution_count": 152,
   "metadata": {},
   "outputs": [
    {
     "data": {
      "image/png": "[encoded data removed]",
      "text/plain": [
       "<Figure size 432x288 with 1 Axes>"
      ]
     },
     "metadata": {
      "needs_background": "light"
     },
     "output_type": "display_data"
    }
   ],
   "source": [
    "plot_importance(xgbM1_1, max_num_features = 10,title='Feature Importance', grid=False)\n",
    "plt.show()"
   ]
  },
  {
   "cell_type": "markdown",
   "metadata": {},
   "source": [
    "# Attribution and Allocation"
   ]
  },
  {
   "cell_type": "code",
   "execution_count": 164,
   "metadata": {},
   "outputs": [],
   "source": [
    "att_tech = list(subs['attribution_technical'])\n",
    "att_surv = list(subs1['attribution_survey'])"
   ]
  },
  {
   "cell_type": "code",
   "execution_count": 179,
   "metadata": {},
   "outputs": [],
   "source": [
    "channels = []\n",
    "for i in range(0,len(subs1['subid'])):\n",
    "    if att_surv[i] == \"facebook\":\n",
    "        channels.append(\"facebook\")\n",
    "    elif att_surv[i] == \"youtube\":\n",
    "        channels.append(\"youtube\")\n",
    "    elif att_surv[i] == \"search\":\n",
    "        channels.append(\"search\") \n",
    "    else:\n",
    "        if att_tech[i] == \"facebook\":\n",
    "            channels.append(\"facebook\")\n",
    "        elif att_tech[i] == \"youtube\":\n",
    "            channels.append(\"youtube\")\n",
    "        elif att_tech[i] == \"search\":\n",
    "            channels.append(\"search\") \n",
    "        elif att_tech[i] == \"display\":\n",
    "            channels.append(\"display\")\n",
    "        elif att_tech[i] in [\"bing\",\"brand sem intent bing\"]:\n",
    "            channels.append(\"bing\")\n",
    "        else:\n",
    "            channels.append(\"other\")\n",
    "subs1['channels'] = channels  "
   ]
  },
  {
   "cell_type": "code",
   "execution_count": 181,
   "metadata": {},
   "outputs": [
    {
     "data": {
      "text/plain": [
       "facebook    135048\n",
       "other        65287\n",
       "search       21228\n",
       "youtube       3283\n",
       "bing          2137\n",
       "display        645\n",
       "Name: channels, dtype: int64"
      ]
     },
     "execution_count": 181,
     "metadata": {},
     "output_type": "execute_result"
    }
   ],
   "source": [
    "subs1['channels'].value_counts()"
   ]
  },
  {
   "cell_type": "code",
   "execution_count": 185,
   "metadata": {},
   "outputs": [],
   "source": [
    "CAC_avergae = [10800/2137,366/645,113500/135048,222500/21228,8730/3283]\n",
    "chan3[\"CAC_avergae_subscribers\"] = CAC_avergae"
   ]
  },
  {
   "cell_type": "code",
   "execution_count": 189,
   "metadata": {},
   "outputs": [],
   "source": [
    "s_bing = 0\n",
    "s_display = 0\n",
    "s_facebook = 0\n",
    "s_search = 0\n",
    "s_youtube = 0\n",
    "for i in range(0,len(subs1['subid'])):\n",
    "    if subs1['retention'][i] == True:\n",
    "        if subs1['channels'][i]==\"bing\":\n",
    "            s_bing = s_bing+1\n",
    "        elif subs1['channels'][i]==\"display\":\n",
    "            s_display = s_display+1\n",
    "        elif subs1['channels'][i]==\"facebook\":\n",
    "            s_facebook = s_facebook+1\n",
    "        elif subs1['channels'][i]==\"search\":\n",
    "            s_search = s_search+1\n",
    "        elif subs1['channels'][i]==\"youtube\":\n",
    "            s_youtube = s_youtube+1"
   ]
  },
  {
   "cell_type": "code",
   "execution_count": 190,
   "metadata": {},
   "outputs": [],
   "source": [
    "CAC_avergae_retention = [10800/s_bing,366/s_display,113500/s_facebook,222500/s_search,8730/s_youtube]\n",
    "chan3[\"CAC_avergae_retention\"] = CAC_avergae_retention"
   ]
  },
  {
   "cell_type": "code",
   "execution_count": 192,
   "metadata": {},
   "outputs": [
    {
     "data": {
      "text/html": [
       "<div>\n",
       "<style scoped>\n",
       "    .dataframe tbody tr th:only-of-type {\n",
       "        vertical-align: middle;\n",
       "    }\n",
       "\n",
       "    .dataframe tbody tr th {\n",
       "        vertical-align: top;\n",
       "    }\n",
       "\n",
       "    .dataframe thead th {\n",
       "        text-align: right;\n",
       "    }\n",
       "</style>\n",
       "<table border=\"1\" class=\"dataframe\">\n",
       "  <thead>\n",
       "    <tr style=\"text-align: right;\">\n",
       "      <th></th>\n",
       "      <th>date_201907</th>\n",
       "      <th>date_201908</th>\n",
       "      <th>date_201909</th>\n",
       "      <th>date_201910</th>\n",
       "      <th>date_201911</th>\n",
       "      <th>date_201912</th>\n",
       "      <th>date_202001</th>\n",
       "      <th>date_202002</th>\n",
       "      <th>Total</th>\n",
       "      <th>CAC_avergae_subscribers</th>\n",
       "      <th>CAC_avergae_retention</th>\n",
       "    </tr>\n",
       "    <tr>\n",
       "      <th>channel</th>\n",
       "      <th></th>\n",
       "      <th></th>\n",
       "      <th></th>\n",
       "      <th></th>\n",
       "      <th></th>\n",
       "      <th></th>\n",
       "      <th></th>\n",
       "      <th></th>\n",
       "      <th></th>\n",
       "      <th></th>\n",
       "      <th></th>\n",
       "    </tr>\n",
       "  </thead>\n",
       "  <tbody>\n",
       "    <tr>\n",
       "      <th>bing</th>\n",
       "      <td>400</td>\n",
       "      <td>900</td>\n",
       "      <td>1000</td>\n",
       "      <td>1100</td>\n",
       "      <td>1300</td>\n",
       "      <td>300</td>\n",
       "      <td>2100</td>\n",
       "      <td>3700</td>\n",
       "      <td>10800</td>\n",
       "      <td>5.053814</td>\n",
       "      <td>10.682493</td>\n",
       "    </tr>\n",
       "    <tr>\n",
       "      <th>display</th>\n",
       "      <td>12</td>\n",
       "      <td>20</td>\n",
       "      <td>13</td>\n",
       "      <td>19</td>\n",
       "      <td>29</td>\n",
       "      <td>31</td>\n",
       "      <td>148</td>\n",
       "      <td>94</td>\n",
       "      <td>366</td>\n",
       "      <td>0.567442</td>\n",
       "      <td>1.042735</td>\n",
       "    </tr>\n",
       "    <tr>\n",
       "      <th>facebook</th>\n",
       "      <td>9000</td>\n",
       "      <td>13000</td>\n",
       "      <td>10500</td>\n",
       "      <td>17000</td>\n",
       "      <td>23000</td>\n",
       "      <td>16000</td>\n",
       "      <td>11000</td>\n",
       "      <td>14000</td>\n",
       "      <td>113500</td>\n",
       "      <td>0.840442</td>\n",
       "      <td>1.712768</td>\n",
       "    </tr>\n",
       "    <tr>\n",
       "      <th>search</th>\n",
       "      <td>13000</td>\n",
       "      <td>18500</td>\n",
       "      <td>19000</td>\n",
       "      <td>24000</td>\n",
       "      <td>25000</td>\n",
       "      <td>38000</td>\n",
       "      <td>41000</td>\n",
       "      <td>44000</td>\n",
       "      <td>222500</td>\n",
       "      <td>10.481440</td>\n",
       "      <td>16.213656</td>\n",
       "    </tr>\n",
       "    <tr>\n",
       "      <th>youtube</th>\n",
       "      <td>90</td>\n",
       "      <td>180</td>\n",
       "      <td>100</td>\n",
       "      <td>130</td>\n",
       "      <td>550</td>\n",
       "      <td>900</td>\n",
       "      <td>4360</td>\n",
       "      <td>2420</td>\n",
       "      <td>8730</td>\n",
       "      <td>2.659153</td>\n",
       "      <td>3.645094</td>\n",
       "    </tr>\n",
       "  </tbody>\n",
       "</table>\n",
       "</div>"
      ],
      "text/plain": [
       "          date_201907  date_201908  date_201909  date_201910  date_201911  \\\n",
       "channel                                                                     \n",
       "bing              400          900         1000         1100         1300   \n",
       "display            12           20           13           19           29   \n",
       "facebook         9000        13000        10500        17000        23000   \n",
       "search          13000        18500        19000        24000        25000   \n",
       "youtube            90          180          100          130          550   \n",
       "\n",
       "          date_201912  date_202001  date_202002   Total  \\\n",
       "channel                                                   \n",
       "bing              300         2100         3700   10800   \n",
       "display            31          148           94     366   \n",
       "facebook        16000        11000        14000  113500   \n",
       "search          38000        41000        44000  222500   \n",
       "youtube           900         4360         2420    8730   \n",
       "\n",
       "          CAC_avergae_subscribers  CAC_avergae_retention  \n",
       "channel                                                   \n",
       "bing                     5.053814              10.682493  \n",
       "display                  0.567442               1.042735  \n",
       "facebook                 0.840442               1.712768  \n",
       "search                  10.481440              16.213656  \n",
       "youtube                  2.659153               3.645094  "
      ]
     },
     "execution_count": 192,
     "metadata": {},
     "output_type": "execute_result"
    }
   ],
   "source": [
    "chan3.head()"
   ]
  },
  {
   "cell_type": "code",
   "execution_count": 194,
   "metadata": {},
   "outputs": [],
   "source": [
    "subs1.to_csv('subs1.csv')"
   ]
  },
  {
   "cell_type": "code",
   "execution_count": null,
   "metadata": {},
   "outputs": [],
   "source": []
  }
 ],
 "metadata": {
  "kernelspec": {
   "display_name": "Python 3",
   "language": "python",
   "name": "python3"
  },
  "language_info": {
   "codemirror_mode": {
    "name": "ipython",
    "version": 3
   },
   "file_extension": ".py",
   "mimetype": "text/x-python",
   "name": "python",
   "nbconvert_exporter": "python",
   "pygments_lexer": "ipython3",
   "version": "3.7.3"
  }
 },
 "nbformat": 4,
 "nbformat_minor": 2
}
